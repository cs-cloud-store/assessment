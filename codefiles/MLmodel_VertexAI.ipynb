{
 "cells": [
  {
   "cell_type": "code",
   "execution_count": 1,
   "id": "f5bee194-4986-44bd-945b-b340589a139e",
   "metadata": {},
   "outputs": [],
   "source": [
    " import datetime\n",
    "import pandas as pd\n",
    "import numpy as np\n",
    "import matplotlib as plt\n",
    "import matplotlib.pyplot as pyplot"
   ]
  },
  {
   "cell_type": "code",
   "execution_count": 1,
   "id": "8c20d07f-5849-4967-8a89-af0d1e3045b1",
   "metadata": {},
   "outputs": [],
   "source": [
    "# 1. Import libraries and test up connection"
   ]
  },
  {
   "cell_type": "code",
   "execution_count": 5,
   "id": "8c13d838-10b9-445c-aa26-a9357399447b",
   "metadata": {},
   "outputs": [],
   "source": [
    "from google.cloud import aiplatform\n",
    "from google.protobuf import json_format\n",
    "from google.protobuf.struct_pb2 import Value\n",
    "from google.cloud.aiplatform_v1.types import (\n",
    "    DeployedModel, ExplanationMetadata,ExplanationParameters,ExplanationSpec,InputDataConfig,Model,ModelContainerSpec,Port, PredictRequest\n",
    ")\n",
    "import pandas as pd\n",
    "from sklearn.preprocessing import StandardScaler\n",
    "import numpy as np\n",
    "\n",
    "# Set the project and location\n",
    "PROJECT_ID = \"hale-brook-377621\"\n",
    "LOCATION = \"us-central1\"\n",
    "\n",
    "# Set the name and location of the dataset file\n",
    "DATASET_PATH = \"gs://dembucket/DEM_Challenge_Section1_DATASET.xlsx - DATA.csv\"\n",
    "\n",
    "# Create a Vertex AI client\n",
    "client_options = {\"api_endpoint\": f\"{LOCATION}-aiplatform.googleapis.com\"}\n",
    "client = aiplatform.gapic.JobServiceClient(client_options=client_options)\n",
    "\n",
    "# Load the dataset\n",
    "df = pd.read_csv(DATASET_PATH)\n"
   ]
  },
  {
   "cell_type": "code",
   "execution_count": 6,
   "id": "394f61fc-14e2-4de7-96fc-d1f67a4e67c2",
   "metadata": {},
   "outputs": [
    {
     "name": "stdout",
     "output_type": "stream",
     "text": [
      "['email', 'first_name', 'gender', 'id', 'ip_address', 'last_name']\n",
      "(1000, 6)\n"
     ]
    }
   ],
   "source": [
    "print(sorted(df.columns))\n",
    "print(df.shape)"
   ]
  },
  {
   "cell_type": "code",
   "execution_count": 7,
   "id": "d66ef585-2cc0-4657-802d-b0477ac1cf84",
   "metadata": {},
   "outputs": [
    {
     "data": {
      "text/html": [
       "<div>\n",
       "<style scoped>\n",
       "    .dataframe tbody tr th:only-of-type {\n",
       "        vertical-align: middle;\n",
       "    }\n",
       "\n",
       "    .dataframe tbody tr th {\n",
       "        vertical-align: top;\n",
       "    }\n",
       "\n",
       "    .dataframe thead th {\n",
       "        text-align: right;\n",
       "    }\n",
       "</style>\n",
       "<table border=\"1\" class=\"dataframe\">\n",
       "  <thead>\n",
       "    <tr style=\"text-align: right;\">\n",
       "      <th></th>\n",
       "      <th>id</th>\n",
       "      <th>first_name</th>\n",
       "      <th>last_name</th>\n",
       "      <th>email</th>\n",
       "      <th>gender</th>\n",
       "      <th>ip_address</th>\n",
       "    </tr>\n",
       "  </thead>\n",
       "  <tbody>\n",
       "    <tr>\n",
       "      <th>0</th>\n",
       "      <td>1</td>\n",
       "      <td>Margaretta</td>\n",
       "      <td>Laughtisse</td>\n",
       "      <td>mlaughtisse0@mediafire.com</td>\n",
       "      <td>Genderfluid</td>\n",
       "      <td>34.148.232.131</td>\n",
       "    </tr>\n",
       "    <tr>\n",
       "      <th>1</th>\n",
       "      <td>2</td>\n",
       "      <td>Vally</td>\n",
       "      <td>Garment</td>\n",
       "      <td>vgarment1@wisc.edu</td>\n",
       "      <td>Bigender</td>\n",
       "      <td>15.158.123.36</td>\n",
       "    </tr>\n",
       "    <tr>\n",
       "      <th>2</th>\n",
       "      <td>3</td>\n",
       "      <td>Tessa</td>\n",
       "      <td>Curee</td>\n",
       "      <td>tcuree2@php.net</td>\n",
       "      <td>Bigender</td>\n",
       "      <td>132.209.143.225</td>\n",
       "    </tr>\n",
       "  </tbody>\n",
       "</table>\n",
       "</div>"
      ],
      "text/plain": [
       "   id  first_name   last_name                       email       gender  \\\n",
       "0   1  Margaretta  Laughtisse  mlaughtisse0@mediafire.com  Genderfluid   \n",
       "1   2       Vally     Garment          vgarment1@wisc.edu     Bigender   \n",
       "2   3       Tessa       Curee             tcuree2@php.net     Bigender   \n",
       "\n",
       "        ip_address  \n",
       "0   34.148.232.131  \n",
       "1    15.158.123.36  \n",
       "2  132.209.143.225  "
      ]
     },
     "execution_count": 7,
     "metadata": {},
     "output_type": "execute_result"
    }
   ],
   "source": [
    "df.head(3)"
   ]
  },
  {
   "cell_type": "code",
   "execution_count": null,
   "id": "d32410d4-aced-45a6-abad-5303a80b3a67",
   "metadata": {},
   "outputs": [],
   "source": [
    "# 2. Feature extraction from IP addresses"
   ]
  },
  {
   "cell_type": "code",
   "execution_count": 9,
   "id": "af4940b2-c93e-41a1-be48-473aadd2ff3b",
   "metadata": {},
   "outputs": [
    {
     "name": "stdout",
     "output_type": "stream",
     "text": [
      "(1000, 2)\n",
      "   level_0  index       ip_address oct1 oct2 oct3 oct4\n",
      "0        0      0   34.148.232.131   34  148  232  131\n",
      "1        1      1    15.158.123.36   15  158  123   36\n",
      "2        2      2  132.209.143.225  132  209  143  225\n",
      "3        3      3   157.110.61.233  157  110   61  233\n",
      "4        4      4     49.55.218.81   49   55  218   81\n"
     ]
    }
   ],
   "source": [
    "src_ip_df = df['ip_address'].copy()\n",
    "\n",
    "src_ip_df = src_ip_df.reset_index()\n",
    "\n",
    "# Drop missing items from both data frames\n",
    "src_ip_df = src_ip_df.dropna().copy()\n",
    "\n",
    "\n",
    "# Drop duplicates\n",
    "src_ip_df=src_ip_df.drop_duplicates(['ip_address'])\n",
    "\n",
    "print(src_ip_df.shape)\n",
    "src_ip_df.head(5)\n",
    "src_ip_df.loc[:, 'oct1'] = src_ip_df['ip_address'].apply(lambda x: x.split(\".\")[0])\n",
    "src_ip_df.loc[:, 'oct2'] = src_ip_df['ip_address'].apply(lambda x: x.split(\".\")[1])\n",
    "src_ip_df.loc[:, 'oct3'] = src_ip_df['ip_address'].apply(lambda x: x.split(\".\")[2])\n",
    "src_ip_df.loc[:, 'oct4'] = src_ip_df['ip_address'].apply(lambda x: x.split(\".\")[3])\n",
    "src_ip_df = src_ip_df.reset_index()\n",
    "print(src_ip_df.head(5))"
   ]
  },
  {
   "cell_type": "code",
   "execution_count": 10,
   "id": "0c4fc7df-e64e-46df-97e3-2fd35dce8498",
   "metadata": {},
   "outputs": [
    {
     "name": "stdout",
     "output_type": "stream",
     "text": [
      "(1000, 4)\n",
      "[['34' '148' '232' '131']\n",
      " ['15' '158' '123' '36']\n",
      " ['132' '209' '143' '225']\n",
      " ['157' '110' '61' '233']\n",
      " ['49' '55' '218' '81']]\n",
      "\n"
     ]
    }
   ],
   "source": [
    "src_ip_df=src_ip_df.drop(['index'], axis = 1)\n",
    "X_matrix_src = np.array(src_ip_df[['oct1', 'oct2', 'oct3', 'oct4']])\n",
    "print(X_matrix_src.shape)\n",
    "print(X_matrix_src[0:5])\n",
    "print()"
   ]
  },
  {
   "cell_type": "code",
   "execution_count": null,
   "id": "1ff3abee-d14e-4e2e-81c0-a930ec77edc9",
   "metadata": {},
   "outputs": [],
   "source": [
    "#3. Let's apply PCA to reduce the dimensions for cluster visualization"
   ]
  },
  {
   "cell_type": "code",
   "execution_count": 11,
   "id": "8fb9675e-79d9-47b2-945a-eb9807dbbb28",
   "metadata": {},
   "outputs": [
    {
     "name": "stdout",
     "output_type": "stream",
     "text": [
      "[0.28137549 0.2516849  0.23630022 0.23063939]\n"
     ]
    }
   ],
   "source": [
    "from sklearn.decomposition import PCA\n",
    "\n",
    "# source\n",
    "pcas = PCA(n_components=4)\n",
    "pcas.fit(X_matrix_src)\n",
    "print(pcas.explained_variance_ratio_)\n"
   ]
  },
  {
   "cell_type": "code",
   "execution_count": 12,
   "id": "627b30c1-2ec2-4f02-95e6-d4c1e4d49301",
   "metadata": {},
   "outputs": [
    {
     "name": "stdout",
     "output_type": "stream",
     "text": [
      "1000\n",
      "1000\n"
     ]
    }
   ],
   "source": [
    "pca_src = PCA(n_components=2)\n",
    "pcas = pca_src.fit_transform(X_matrix_src)\n",
    "\n",
    "pcas1=[]\n",
    "pcas2=[]\n",
    "\n",
    "#source\n",
    "for i in pcas:\n",
    "    pcas1.append(i[0])\n",
    "    pcas2.append(i[1])\n",
    "    \n",
    "print(len(pcas1))\n",
    "print(len(pcas2))\n"
   ]
  },
  {
   "cell_type": "code",
   "execution_count": 13,
   "id": "eae215cd-4e0a-4f86-830b-889a9cb98615",
   "metadata": {},
   "outputs": [
    {
     "name": "stdout",
     "output_type": "stream",
     "text": [
      "   level_0      ip_address oct1 oct2 oct3 oct4        pca1        pca2\n",
      "0        0  34.148.232.131   34  148  232  131 -110.737651   23.137985\n",
      "1        1   15.158.123.36   15  158  123   36  -28.086457  130.277664\n",
      "\n"
     ]
    },
    {
     "data": {
      "image/png": "[encoded data removed]",
      "text/plain": [
       "<Figure size 1000x1000 with 1 Axes>"
      ]
     },
     "metadata": {},
     "output_type": "display_data"
    }
   ],
   "source": [
    "#Store the two principal components as new features in the source and destination data frames.\n",
    "src_ip_df['pca1'] = pcas1\n",
    "src_ip_df['pca2'] = pcas2\n",
    "print(src_ip_df[:2])\n",
    "print()\n",
    "\n",
    "# Maintain a copy for using for K-Means later.\n",
    "src_ip_df_copy = src_ip_df.copy()\n",
    "\n",
    "#Scatter plot of Source IP address data\n",
    "import matplotlib.pyplot as plt\n",
    "%matplotlib inline\n",
    "plt.rcParams[\"figure.figsize\"] = (10,10)\n",
    "plt.scatter(src_ip_df['pca1'], src_ip_df['pca2'], s=10, color='blue',label=\"All Hosts\")\n",
    "plt.legend(bbox_to_anchor=(1.005, 1), loc=2, borderaxespad=0.)\n",
    "plt.show()"
   ]
  },
  {
   "cell_type": "code",
   "execution_count": null,
   "id": "c66852d1-f56a-405d-bafb-0e7a665f1222",
   "metadata": {},
   "outputs": [],
   "source": [
    "#4. Use Gaussian Mixture Modeling (GMM) Clustering algorithm to group similar IP addresses.\n",
    "#Use BayesianGaussianMixture to determine first the optimum number of clusters that can be formed."
   ]
  },
  {
   "cell_type": "code",
   "execution_count": 14,
   "id": "0a8d5272-9496-4ed6-9a7d-8ab3e3e8e8f5",
   "metadata": {
    "collapsed": true,
    "jupyter": {
     "outputs_hidden": true
    },
    "tags": []
   },
   "outputs": [
    {
     "name": "stderr",
     "output_type": "stream",
     "text": [
      "/opt/conda/lib/python3.7/site-packages/sklearn/mixture/_base.py:282: ConvergenceWarning: Initialization 10 did not converge. Try different init parameters, or increase max_iter, tol or check for degenerate data.\n",
      "  ConvergenceWarning,\n"
     ]
    },
    {
     "data": {
      "text/plain": [
       "array([0.15, 0.09, 0.25, 0.16, 0.16, 0.12, 0.07])"
      ]
     },
     "execution_count": 14,
     "metadata": {},
     "output_type": "execute_result"
    }
   ],
   "source": [
    "from sklearn.mixture import BayesianGaussianMixture\n",
    "\n",
    "# Check 7 clusters\n",
    "bgms = BayesianGaussianMixture(n_components=7, n_init=10, random_state=100)\n",
    "\n",
    "bgms.fit(X_matrix_src)\n",
    "np.round(bgms.weights_, 2)"
   ]
  },
  {
   "cell_type": "code",
   "execution_count": null,
   "id": "4c874016-3f84-442c-8cc6-5f98dd9be66d",
   "metadata": {},
   "outputs": [],
   "source": [
    "#BayesianGaussianMixture gives weights of each cluster. \n",
    "#We see that few of the clusters have been eliminated with near 0 weight. So we can try 5 clusters on the data."
   ]
  },
  {
   "cell_type": "code",
   "execution_count": 15,
   "id": "3f028a3e-a18a-4b6e-96a6-d8a64cc7d13f",
   "metadata": {},
   "outputs": [
    {
     "name": "stdout",
     "output_type": "stream",
     "text": [
      "[0.19 0.28 0.15 0.24 0.14]\n"
     ]
    }
   ],
   "source": [
    "bgms = BayesianGaussianMixture(n_components=5, n_init=10, random_state=100)\n",
    "bgms.fit(X_matrix_src)\n",
    "print(np.round(bgms.weights_, 2))"
   ]
  },
  {
   "cell_type": "code",
   "execution_count": 16,
   "id": "b069cedd-0844-48e6-b015-7dd61d94728e",
   "metadata": {},
   "outputs": [
    {
     "name": "stdout",
     "output_type": "stream",
     "text": [
      "[[144.84839153 137.92964866  34.41871483 116.53792874]\n",
      " [130.2048704   69.90685582 148.30467159  86.19192651]\n",
      " [199.25217803 197.18622053 162.54967242 106.74318226]\n",
      " [121.40053125 111.34571149 140.62726857 213.06679548]\n",
      " [ 60.60993651 204.60764642 153.91038614 104.27151195]]\n",
      "\n",
      "[[ 57.84124713  24.03058385]\n",
      " [ 41.57617842   4.8861154 ]\n",
      " [-18.2194636   14.07832804]\n",
      " [-33.1831613  -75.02267874]\n",
      " [-79.05007829  72.58254996]]\n"
     ]
    }
   ],
   "source": [
    "print(bgms.means_)\n",
    "pca_means = pca_src.transform(bgms.means_)\n",
    "print()\n",
    "print(pca_means)"
   ]
  },
  {
   "cell_type": "code",
   "execution_count": 17,
   "id": "be46d43f-195a-42e3-b760-9ee45673893f",
   "metadata": {},
   "outputs": [
    {
     "data": {
      "text/html": [
       "<div>\n",
       "<style scoped>\n",
       "    .dataframe tbody tr th:only-of-type {\n",
       "        vertical-align: middle;\n",
       "    }\n",
       "\n",
       "    .dataframe tbody tr th {\n",
       "        vertical-align: top;\n",
       "    }\n",
       "\n",
       "    .dataframe thead th {\n",
       "        text-align: right;\n",
       "    }\n",
       "</style>\n",
       "<table border=\"1\" class=\"dataframe\">\n",
       "  <thead>\n",
       "    <tr style=\"text-align: right;\">\n",
       "      <th></th>\n",
       "      <th>pca1</th>\n",
       "      <th>pca2</th>\n",
       "    </tr>\n",
       "  </thead>\n",
       "  <tbody>\n",
       "    <tr>\n",
       "      <th>0</th>\n",
       "      <td>57.841247</td>\n",
       "      <td>24.030584</td>\n",
       "    </tr>\n",
       "    <tr>\n",
       "      <th>1</th>\n",
       "      <td>41.576178</td>\n",
       "      <td>4.886115</td>\n",
       "    </tr>\n",
       "    <tr>\n",
       "      <th>2</th>\n",
       "      <td>-18.219464</td>\n",
       "      <td>14.078328</td>\n",
       "    </tr>\n",
       "    <tr>\n",
       "      <th>3</th>\n",
       "      <td>-33.183161</td>\n",
       "      <td>-75.022679</td>\n",
       "    </tr>\n",
       "    <tr>\n",
       "      <th>4</th>\n",
       "      <td>-79.050078</td>\n",
       "      <td>72.582550</td>\n",
       "    </tr>\n",
       "  </tbody>\n",
       "</table>\n",
       "</div>"
      ],
      "text/plain": [
       "        pca1       pca2\n",
       "0  57.841247  24.030584\n",
       "1  41.576178   4.886115\n",
       "2 -18.219464  14.078328\n",
       "3 -33.183161 -75.022679\n",
       "4 -79.050078  72.582550"
      ]
     },
     "execution_count": 17,
     "metadata": {},
     "output_type": "execute_result"
    }
   ],
   "source": [
    "means_df_s = pd.DataFrame(pca_means, columns=['pca1','pca2'])\n",
    "means_df_s"
   ]
  },
  {
   "cell_type": "code",
   "execution_count": 18,
   "id": "e1883aec-d649-493a-ac70-421f062c9c79",
   "metadata": {},
   "outputs": [
    {
     "name": "stdout",
     "output_type": "stream",
     "text": [
      "True\n",
      "100\n"
     ]
    }
   ],
   "source": [
    "print(bgms.converged_)\n",
    "print(bgms.n_iter_)"
   ]
  },
  {
   "cell_type": "code",
   "execution_count": 19,
   "id": "7906a53c-ef32-4b71-b64a-aa61f8a7dac3",
   "metadata": {},
   "outputs": [
    {
     "data": {
      "text/plain": [
       "array([4, 4, 3, 3, 1, 4, 0, 0, 3, 3, 1, 0, 0, 3, 2, 1, 3, 3, 3, 3, 4, 2,\n",
       "       1, 4, 0, 2, 3, 4, 3, 4, 1, 4, 0, 1, 4, 2, 4, 0, 3, 0, 0, 0, 1, 4,\n",
       "       2, 2, 4, 3, 3, 0, 3, 4, 0, 4, 3, 2, 0, 4, 4, 1, 3, 2, 3, 1, 2, 2,\n",
       "       2, 1, 4, 3, 4, 0, 2, 4, 3, 4, 4, 4, 0, 0, 2, 1, 2, 2, 3, 3, 4, 2,\n",
       "       2, 1, 4, 3, 0, 1, 1, 2, 2, 2, 1, 4, 3, 0, 3, 2, 4, 4, 0, 3, 1, 1,\n",
       "       3, 4, 0, 0, 3, 3, 0, 1, 3, 3, 2, 2, 1, 4, 0, 1, 3, 1, 4, 1, 2, 1,\n",
       "       2, 0, 0, 3, 1, 4, 0, 1, 3, 1, 0, 2, 1, 0, 2, 0, 3, 3, 3, 2, 1, 0,\n",
       "       0, 0, 1, 4, 1, 4, 4, 0, 2, 3, 2, 0, 2, 0, 1, 0, 0, 0, 0, 1, 3, 1,\n",
       "       3, 1, 0, 1, 3, 0, 3, 1, 1, 1, 3, 2, 3, 2, 2, 3, 1, 3, 1, 1, 3, 0,\n",
       "       2, 2, 0, 1, 1, 3, 0, 3, 3, 1, 3, 1, 0, 1, 0, 2, 1, 1, 1, 1, 1, 0,\n",
       "       4, 0, 1, 0, 0, 2, 3, 2, 0, 2, 4, 1, 1, 3, 1, 2, 1, 1, 3, 3, 1, 4,\n",
       "       4, 3, 4, 0, 2, 1, 1, 2, 3, 3, 2, 0, 2, 3, 1, 1, 1, 3, 2, 4, 3, 3,\n",
       "       3, 3, 1, 1, 1, 0, 2, 1, 3, 0, 1, 3, 1, 3, 0, 2, 3, 0, 1, 1, 2, 4,\n",
       "       3, 0, 0, 0, 3, 1, 1, 1, 3, 3, 1, 4, 2, 3, 0, 3, 1, 0, 1, 1, 1, 2,\n",
       "       0, 1, 0, 0, 1, 1, 2, 3, 0, 3, 3, 2, 1, 1, 3, 1, 0, 3, 2, 4, 2, 1,\n",
       "       3, 1, 2, 4, 2, 0, 4, 4, 3, 4, 4, 0, 0, 3, 1, 0, 2, 3, 3, 0, 4, 0,\n",
       "       0, 1, 4, 0, 1, 4, 3, 1, 0, 2, 3, 1, 3, 3, 1, 4, 1, 3, 0, 1, 3, 1,\n",
       "       4, 3, 0, 3, 0, 3, 3, 3, 1, 3, 0, 1, 0, 0, 2, 3, 1, 3, 1, 2, 1, 1,\n",
       "       1, 4, 4, 3, 2, 0, 1, 1, 3, 3, 3, 1, 3, 0, 4, 4, 1, 3, 4, 2, 1, 2,\n",
       "       3, 4, 1, 4, 0, 1, 1, 1, 3, 2, 0, 1, 2, 0, 3, 2, 1, 2, 2, 2, 1, 1,\n",
       "       0, 1, 3, 4, 3, 0, 1, 1, 4, 0, 3, 0, 0, 3, 4, 0, 3, 3, 0, 0, 3, 2,\n",
       "       0, 0, 3, 1, 4, 2, 1, 3, 3, 3, 1, 4, 3, 0, 1, 3, 1, 4, 1, 0, 0, 2,\n",
       "       4, 3, 3, 3, 3, 1, 1, 1, 4, 1, 1, 3, 2, 3, 1, 4, 0, 0, 1, 1, 0, 4,\n",
       "       3, 3, 0, 3, 0, 1, 0, 1, 2, 3, 3, 1, 3, 2, 3, 3, 4, 2, 0, 4, 1, 0,\n",
       "       1, 1, 0, 0, 2, 4, 0, 1, 4, 0, 1, 1, 3, 1, 0, 1, 1, 0, 2, 0, 2, 3,\n",
       "       3, 1, 1, 2, 2, 2, 2, 1, 1, 3, 1, 3, 2, 4, 0, 0, 2, 4, 1, 4, 1, 3,\n",
       "       4, 4, 1, 1, 2, 1, 3, 3, 2, 3, 0, 3, 2, 0, 0, 4, 1, 3, 1, 1, 3, 4,\n",
       "       2, 2, 3, 3, 2, 4, 2, 3, 0, 1, 4, 4, 0, 4, 2, 0, 4, 0, 3, 2, 2, 4,\n",
       "       4, 0, 2, 4, 0, 3, 1, 2, 1, 3, 1, 3, 3, 4, 0, 3, 3, 3, 1, 0, 1, 3,\n",
       "       2, 4, 0, 0, 1, 3, 2, 1, 1, 3, 2, 1, 0, 3, 0, 3, 3, 0, 2, 2, 2, 2,\n",
       "       1, 4, 1, 1, 0, 0, 3, 0, 1, 2, 4, 1, 1, 0, 1, 3, 4, 4, 4, 2, 3, 0,\n",
       "       4, 2, 1, 3, 3, 1, 3, 4, 1, 2, 2, 1, 3, 1, 1, 0, 1, 2, 4, 2, 4, 0,\n",
       "       2, 1, 0, 3, 4, 1, 0, 3, 1, 2, 2, 0, 1, 0, 3, 3, 1, 1, 1, 1, 1, 4,\n",
       "       1, 0, 0, 1, 2, 0, 4, 4, 3, 3, 3, 1, 2, 1, 3, 3, 0, 1, 4, 1, 0, 4,\n",
       "       1, 0, 3, 1, 1, 4, 2, 3, 3, 1, 1, 3, 4, 2, 2, 3, 2, 2, 1, 1, 1, 2,\n",
       "       3, 0, 3, 2, 1, 0, 3, 0, 2, 1, 2, 3, 3, 1, 4, 1, 3, 0, 3, 3, 3, 1,\n",
       "       1, 0, 1, 2, 0, 1, 3, 3, 3, 2, 3, 0, 3, 0, 1, 2, 0, 3, 0, 0, 0, 3,\n",
       "       3, 1, 3, 4, 3, 3, 4, 3, 0, 0, 3, 0, 0, 1, 3, 1, 4, 4, 3, 1, 0, 4,\n",
       "       0, 1, 3, 0, 1, 0, 3, 0, 4, 2, 3, 0, 0, 4, 1, 0, 3, 3, 0, 1, 1, 3,\n",
       "       3, 0, 2, 1, 4, 1, 4, 1, 3, 4, 0, 0, 2, 1, 0, 1, 0, 3, 1, 3, 2, 2,\n",
       "       2, 3, 0, 0, 3, 1, 2, 4, 0, 1, 3, 3, 2, 4, 3, 1, 2, 3, 1, 0, 1, 0,\n",
       "       4, 3, 1, 3, 3, 0, 1, 1, 0, 1, 4, 1, 4, 1, 3, 1, 3, 3, 3, 3, 3, 4,\n",
       "       1, 1, 2, 0, 2, 1, 4, 1, 0, 0, 2, 2, 4, 3, 3, 2, 1, 0, 2, 1, 1, 2,\n",
       "       4, 0, 4, 1, 1, 2, 3, 3, 0, 3, 3, 3, 3, 4, 0, 0, 0, 1, 1, 4, 1, 4,\n",
       "       1, 1, 0, 2, 0, 1, 3, 3, 3, 0, 2, 0, 1, 3, 3, 1, 1, 4, 3, 2, 4, 3,\n",
       "       3, 4, 0, 0, 3, 3, 1, 3, 4, 3])"
      ]
     },
     "execution_count": 19,
     "metadata": {},
     "output_type": "execute_result"
    }
   ],
   "source": [
    "#Predict the clusters for the IP addresses and note it in a separate column\n",
    "bgms.predict(X_matrix_src)"
   ]
  },
  {
   "cell_type": "code",
   "execution_count": 20,
   "id": "4d35e327-fb3d-44f8-97d4-9d521b35cedd",
   "metadata": {},
   "outputs": [
    {
     "data": {
      "text/html": [
       "<div>\n",
       "<style scoped>\n",
       "    .dataframe tbody tr th:only-of-type {\n",
       "        vertical-align: middle;\n",
       "    }\n",
       "\n",
       "    .dataframe tbody tr th {\n",
       "        vertical-align: top;\n",
       "    }\n",
       "\n",
       "    .dataframe thead th {\n",
       "        text-align: right;\n",
       "    }\n",
       "</style>\n",
       "<table border=\"1\" class=\"dataframe\">\n",
       "  <thead>\n",
       "    <tr style=\"text-align: right;\">\n",
       "      <th></th>\n",
       "      <th>level_0</th>\n",
       "      <th>ip_address</th>\n",
       "      <th>oct1</th>\n",
       "      <th>oct2</th>\n",
       "      <th>oct3</th>\n",
       "      <th>oct4</th>\n",
       "      <th>pca1</th>\n",
       "      <th>pca2</th>\n",
       "      <th>kcluster</th>\n",
       "    </tr>\n",
       "  </thead>\n",
       "  <tbody>\n",
       "    <tr>\n",
       "      <th>990</th>\n",
       "      <td>990</td>\n",
       "      <td>89.57.32.247</td>\n",
       "      <td>89</td>\n",
       "      <td>57</td>\n",
       "      <td>32</td>\n",
       "      <td>247</td>\n",
       "      <td>29.639916</td>\n",
       "      <td>-94.098894</td>\n",
       "      <td>3</td>\n",
       "    </tr>\n",
       "    <tr>\n",
       "      <th>991</th>\n",
       "      <td>991</td>\n",
       "      <td>7.246.81.44</td>\n",
       "      <td>7</td>\n",
       "      <td>246</td>\n",
       "      <td>81</td>\n",
       "      <td>44</td>\n",
       "      <td>-63.802038</td>\n",
       "      <td>171.646887</td>\n",
       "      <td>4</td>\n",
       "    </tr>\n",
       "    <tr>\n",
       "      <th>992</th>\n",
       "      <td>992</td>\n",
       "      <td>212.111.15.217</td>\n",
       "      <td>212</td>\n",
       "      <td>111</td>\n",
       "      <td>15</td>\n",
       "      <td>217</td>\n",
       "      <td>74.222890</td>\n",
       "      <td>-89.974945</td>\n",
       "      <td>0</td>\n",
       "    </tr>\n",
       "    <tr>\n",
       "      <th>993</th>\n",
       "      <td>993</td>\n",
       "      <td>197.146.36.155</td>\n",
       "      <td>197</td>\n",
       "      <td>146</td>\n",
       "      <td>36</td>\n",
       "      <td>155</td>\n",
       "      <td>60.269100</td>\n",
       "      <td>-23.288775</td>\n",
       "      <td>0</td>\n",
       "    </tr>\n",
       "    <tr>\n",
       "      <th>994</th>\n",
       "      <td>994</td>\n",
       "      <td>70.137.63.180</td>\n",
       "      <td>70</td>\n",
       "      <td>137</td>\n",
       "      <td>63</td>\n",
       "      <td>180</td>\n",
       "      <td>-15.988833</td>\n",
       "      <td>-4.542297</td>\n",
       "      <td>3</td>\n",
       "    </tr>\n",
       "    <tr>\n",
       "      <th>995</th>\n",
       "      <td>995</td>\n",
       "      <td>227.67.205.244</td>\n",
       "      <td>227</td>\n",
       "      <td>67</td>\n",
       "      <td>205</td>\n",
       "      <td>244</td>\n",
       "      <td>-7.054649</td>\n",
       "      <td>-169.642971</td>\n",
       "      <td>3</td>\n",
       "    </tr>\n",
       "    <tr>\n",
       "      <th>996</th>\n",
       "      <td>996</td>\n",
       "      <td>189.120.124.155</td>\n",
       "      <td>189</td>\n",
       "      <td>120</td>\n",
       "      <td>124</td>\n",
       "      <td>155</td>\n",
       "      <td>24.218534</td>\n",
       "      <td>-46.917930</td>\n",
       "      <td>1</td>\n",
       "    </tr>\n",
       "    <tr>\n",
       "      <th>997</th>\n",
       "      <td>997</td>\n",
       "      <td>246.169.244.242</td>\n",
       "      <td>246</td>\n",
       "      <td>169</td>\n",
       "      <td>244</td>\n",
       "      <td>242</td>\n",
       "      <td>-78.857326</td>\n",
       "      <td>-138.702316</td>\n",
       "      <td>3</td>\n",
       "    </tr>\n",
       "    <tr>\n",
       "      <th>998</th>\n",
       "      <td>998</td>\n",
       "      <td>16.201.179.189</td>\n",
       "      <td>16</td>\n",
       "      <td>201</td>\n",
       "      <td>179</td>\n",
       "      <td>189</td>\n",
       "      <td>-144.342985</td>\n",
       "      <td>15.060518</td>\n",
       "      <td>4</td>\n",
       "    </tr>\n",
       "    <tr>\n",
       "      <th>999</th>\n",
       "      <td>999</td>\n",
       "      <td>0.14.221.255</td>\n",
       "      <td>0</td>\n",
       "      <td>14</td>\n",
       "      <td>221</td>\n",
       "      <td>255</td>\n",
       "      <td>-90.716881</td>\n",
       "      <td>-118.984723</td>\n",
       "      <td>3</td>\n",
       "    </tr>\n",
       "  </tbody>\n",
       "</table>\n",
       "</div>"
      ],
      "text/plain": [
       "     level_0       ip_address oct1 oct2 oct3 oct4        pca1        pca2  \\\n",
       "990      990     89.57.32.247   89   57   32  247   29.639916  -94.098894   \n",
       "991      991      7.246.81.44    7  246   81   44  -63.802038  171.646887   \n",
       "992      992   212.111.15.217  212  111   15  217   74.222890  -89.974945   \n",
       "993      993   197.146.36.155  197  146   36  155   60.269100  -23.288775   \n",
       "994      994    70.137.63.180   70  137   63  180  -15.988833   -4.542297   \n",
       "995      995   227.67.205.244  227   67  205  244   -7.054649 -169.642971   \n",
       "996      996  189.120.124.155  189  120  124  155   24.218534  -46.917930   \n",
       "997      997  246.169.244.242  246  169  244  242  -78.857326 -138.702316   \n",
       "998      998   16.201.179.189   16  201  179  189 -144.342985   15.060518   \n",
       "999      999     0.14.221.255    0   14  221  255  -90.716881 -118.984723   \n",
       "\n",
       "     kcluster  \n",
       "990         3  \n",
       "991         4  \n",
       "992         0  \n",
       "993         0  \n",
       "994         3  \n",
       "995         3  \n",
       "996         1  \n",
       "997         3  \n",
       "998         4  \n",
       "999         3  "
      ]
     },
     "execution_count": 20,
     "metadata": {},
     "output_type": "execute_result"
    }
   ],
   "source": [
    "src_ip_df['kcluster']=bgms.predict(X_matrix_src).tolist()\n",
    "src_ip_df.tail(10)"
   ]
  },
  {
   "cell_type": "code",
   "execution_count": 23,
   "id": "830b6a8e-6baa-40c9-8ae7-fac5fb2ae542",
   "metadata": {},
   "outputs": [
    {
     "data": {
      "image/png": "[encoded data removed]",
      "text/plain": [
       "<Figure size 1600x800 with 1 Axes>"
      ]
     },
     "metadata": {},
     "output_type": "display_data"
    }
   ],
   "source": [
    "#Plot the clusters identified by GMM\n",
    "dfs0=src_ip_df[src_ip_df.kcluster==0]\n",
    "dfs1=src_ip_df[src_ip_df.kcluster==1]\n",
    "dfs2=src_ip_df[src_ip_df.kcluster==2]\n",
    "plt.rcParams[\"figure.figsize\"] = (16,8)\n",
    "pyplot.scatter(dfs0['pca1'],dfs0['pca2'],s=20,label=\"cl 0\")\n",
    "pyplot.scatter(dfs1['pca1'],dfs1['pca2'],s=20,marker=\"<\",label=\"cl 1\")\n",
    "pyplot.scatter(dfs2['pca1'],dfs2['pca2'],s=20,marker=\"D\",label=\"cl 2\")\n",
    "pyplot.scatter(means_df_s['pca1'],means_df_s['pca2'],s=50,marker=\"X\",label=\"Mean\", color='black')\n",
    "\n",
    "pyplot.legend(bbox_to_anchor=(1.005, 1), loc=2, borderaxespad=0.)\n",
    "pyplot.show()"
   ]
  },
  {
   "cell_type": "code",
   "execution_count": null,
   "id": "ba4f094a-933b-4ad5-bc54-a67f343d005a",
   "metadata": {},
   "outputs": [],
   "source": []
  }
 ],
 "metadata": {
  "environment": {
   "kernel": "python3",
   "name": "tf2-gpu.2-8.m103",
   "type": "gcloud",
   "uri": "gcr.io/deeplearning-platform-release/tf2-gpu.2-8:m103"
  },
  "kernelspec": {
   "display_name": "Python 3 (ipykernel)",
   "language": "python",
   "name": "python3"
  },
  "language_info": {
   "codemirror_mode": {
    "name": "ipython",
    "version": 3
   },
   "file_extension": ".py",
   "mimetype": "text/x-python",
   "name": "python",
   "nbconvert_exporter": "python",
   "pygments_lexer": "ipython3",
   "version": "3.7.12"
  }
 },
 "nbformat": 4,
 "nbformat_minor": 5
}
